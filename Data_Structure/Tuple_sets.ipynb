{
 "cells": [
  {
   "cell_type": "markdown",
   "id": "6cdd2a57-ecdf-475d-8cc4-012e89195954",
   "metadata": {},
   "source": [
    "# 📘 Case Study: Tuple Operations in Python\n",
    "### 📝 Problem Statement\n",
    "\n",
    "A company maintains a fixed set of machine IDs that cannot be changed frequently.\n",
    "They want to:\n",
    "\n",
    "    -Store machine IDs in a tuple.\n",
    "    \n",
    "    -Access and analyze tuple elements.\n",
    "    \n",
    "    -count and find positions of specific items.\n",
    "    \n",
    "    -Convert tuple to list if modifications are needed.\n",
    "\n",
    "This case study helps students understand immutability of tuples in Python."
   ]
  },
  {
   "cell_type": "code",
   "execution_count": 1,
   "id": "7927ef81-643f-40ad-8a96-98d4998c94c8",
   "metadata": {},
   "outputs": [
    {
     "name": "stdout",
     "output_type": "stream",
     "text": [
      "Machine IDs: ('M101', 'M102', 'M103', 'M104', 'M105')\n"
     ]
    }
   ],
   "source": [
    "# 1. Store machine IDs in a tuple (immutable)\n",
    "machine_ids = (\"M101\", \"M102\", \"M103\", \"M104\", \"M105\")\n",
    "print(\"Machine IDs:\", machine_ids)"
   ]
  },
  {
   "cell_type": "code",
   "execution_count": 2,
   "id": "8b5e259a-2906-4e25-8bdd-5ae174f59cb0",
   "metadata": {},
   "outputs": [
    {
     "name": "stdout",
     "output_type": "stream",
     "text": [
      "Total Machines: 5\n"
     ]
    }
   ],
   "source": [
    "# 2. Find length of tuple\n",
    "length = len(machine_ids)\n",
    "print(\"Total Machines:\", length)"
   ]
  },
  {
   "cell_type": "code",
   "execution_count": 3,
   "id": "6d9f2f96-f2f4-452b-ad8e-6a80ed8cc0b8",
   "metadata": {},
   "outputs": [
    {
     "name": "stdout",
     "output_type": "stream",
     "text": [
      "First Machine ID: M101\n",
      "Last Machine ID: M105\n"
     ]
    }
   ],
   "source": [
    "# 3. Access items using index\n",
    "print(\"First Machine ID:\", machine_ids[0])\n",
    "print(\"Last Machine ID:\", machine_ids[-1])"
   ]
  },
  {
   "cell_type": "code",
   "execution_count": 4,
   "id": "32fba17e-f74a-47cc-8494-c2b59a0cd568",
   "metadata": {},
   "outputs": [
    {
     "name": "stdout",
     "output_type": "stream",
     "text": [
      "First 3 Machine IDs: ('M101', 'M102', 'M103')\n"
     ]
    }
   ],
   "source": [
    "# 4. Slice tuple\n",
    "print(\"First 3 Machine IDs:\", machine_ids[:3])"
   ]
  },
  {
   "cell_type": "code",
   "execution_count": 5,
   "id": "8bc8531b-d8f9-49ec-affc-7ca8a977989d",
   "metadata": {},
   "outputs": [
    {
     "name": "stdout",
     "output_type": "stream",
     "text": [
      "M103 exists in the tuple.\n"
     ]
    }
   ],
   "source": [
    "# 5. Check if a machine exists\n",
    "search_id = \"M103\"\n",
    "if search_id in machine_ids:\n",
    "    print(f\"{search_id} exists in the tuple.\")\n",
    "else:\n",
    "    print(f\"{search_id} does not exist.\")"
   ]
  },
  {
   "cell_type": "code",
   "execution_count": 6,
   "id": "5d495f8a-fca8-4144-8373-64bc9204b6a8",
   "metadata": {},
   "outputs": [
    {
     "name": "stdout",
     "output_type": "stream",
     "text": [
      "Machine Tuple: ('M101', 'M102', 'M103', 'M101', 'M104', 'M101')\n",
      "Count of M101: 3\n"
     ]
    }
   ],
   "source": [
    "# 6. Count occurrences of an item\n",
    "machine_tuple = (\"M101\", \"M102\", \"M103\", \"M101\", \"M104\", \"M101\")\n",
    "print(\"Machine Tuple:\", machine_tuple)\n",
    "print(\"Count of M101:\", machine_tuple.count(\"M101\"))"
   ]
  },
  {
   "cell_type": "code",
   "execution_count": 7,
   "id": "f535e392-f5cd-402a-af2e-0bf475037944",
   "metadata": {},
   "outputs": [
    {
     "name": "stdout",
     "output_type": "stream",
     "text": [
      "Index of M103: 2\n"
     ]
    }
   ],
   "source": [
    "# 7. Find index of an item\n",
    "print(\"Index of M103:\", machine_tuple.index(\"M103\"))"
   ]
  },
  {
   "cell_type": "code",
   "execution_count": 8,
   "id": "e4139cd0-a7f4-43a8-bcf9-9a9b514395ec",
   "metadata": {},
   "outputs": [
    {
     "name": "stdout",
     "output_type": "stream",
     "text": [
      "After converting to list and adding M106: ['M101', 'M102', 'M103', 'M101', 'M104', 'M101', 'M106']\n"
     ]
    }
   ],
   "source": [
    "# 8. Convert tuple to list to modify\n",
    "machine_list = list(machine_tuple)\n",
    "machine_list.append(\"M106\")\n",
    "print(\"After converting to list and adding M106:\", machine_list)"
   ]
  },
  {
   "cell_type": "code",
   "execution_count": 9,
   "id": "8e717d34-d23f-4979-be59-108aa4c44809",
   "metadata": {},
   "outputs": [
    {
     "name": "stdout",
     "output_type": "stream",
     "text": [
      "Modified Tuple: ('M101', 'M102', 'M103', 'M101', 'M104', 'M101', 'M106')\n"
     ]
    }
   ],
   "source": [
    "# 9. Convert back to tuple\n",
    "machine_tuple = tuple(machine_list)\n",
    "print(\"Modified Tuple:\", machine_tuple)"
   ]
  },
  {
   "cell_type": "code",
   "execution_count": null,
   "id": "0ea8af13-b70d-4f14-8543-6c70aadd880d",
   "metadata": {},
   "outputs": [],
   "source": []
  }
 ],
 "metadata": {
  "kernelspec": {
   "display_name": "Python [conda env:base] *",
   "language": "python",
   "name": "conda-base-py"
  },
  "language_info": {
   "codemirror_mode": {
    "name": "ipython",
    "version": 3
   },
   "file_extension": ".py",
   "mimetype": "text/x-python",
   "name": "python",
   "nbconvert_exporter": "python",
   "pygments_lexer": "ipython3",
   "version": "3.13.5"
  }
 },
 "nbformat": 4,
 "nbformat_minor": 5
}
