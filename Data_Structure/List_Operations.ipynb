{
 "cells": [
  {
   "cell_type": "markdown",
   "id": "f957eef7-114f-46e0-baf8-c07dfa7f1aaa",
   "metadata": {},
   "source": [
    "# 📘 Case Study: List Operations in Python\n",
    "### 📝 Problem Statement:\n",
    "\n",
    "A manufacturing company maintains a list of daily produced items.\n",
    "They want to:\n",
    "\n",
    "    -Store items in a list.\n",
    "    \n",
    "    -Add new items when production increases.\n",
    "    \n",
    "    -Remove defective items.\n",
    "    \n",
    "    -Access specific items.\n",
    "    \n",
    "    -Sort and analyze the production list.\n",
    "\n",
    "This helps students understand basic list operations in Python."
   ]
  },
  {
   "cell_type": "code",
   "execution_count": 1,
   "id": "02fa6834-447b-472d-a353-f0e618292a15",
   "metadata": {},
   "outputs": [
    {
     "name": "stdout",
     "output_type": "stream",
     "text": [
      "Original Product List: ['steel rod', 'copper wire', 'aluminium sheet', 'iron pipe']\n"
     ]
    }
   ],
   "source": [
    "# 1. Store product list\n",
    "products = [\"steel rod\", \"copper wire\", \"aluminium sheet\", \"iron pipe\"]\n",
    "print(\"Original Product List:\", products)\n"
   ]
  },
  {
   "cell_type": "code",
   "execution_count": 2,
   "id": "44a5a028-6aa6-40cd-b6d8-57fed7c424de",
   "metadata": {},
   "outputs": [
    {
     "name": "stdout",
     "output_type": "stream",
     "text": [
      "Number of products: 4\n"
     ]
    }
   ],
   "source": [
    "# 2. Find length of the list\n",
    "length = len(products)\n",
    "print(\"Number of products:\", length)"
   ]
  },
  {
   "cell_type": "code",
   "execution_count": 3,
   "id": "3fc2df29-1ebb-4796-b20d-21fe4b1bb2da",
   "metadata": {},
   "outputs": [
    {
     "name": "stdout",
     "output_type": "stream",
     "text": [
      "First Product: steel rod\n",
      "Last Product: iron pipe\n"
     ]
    }
   ],
   "source": [
    "# 3. Access items by index\n",
    "print(\"First Product:\", products[0])\n",
    "print(\"Last Product:\", products[-1])"
   ]
  },
  {
   "cell_type": "code",
   "execution_count": 4,
   "id": "e3596340-915e-44fb-9799-09aef35cdd8a",
   "metadata": {},
   "outputs": [
    {
     "name": "stdout",
     "output_type": "stream",
     "text": [
      "After Adding a Product: ['steel rod', 'copper wire', 'aluminium sheet', 'iron pipe', 'plastic tube']\n"
     ]
    }
   ],
   "source": [
    "# 4. Add a new product\n",
    "products.append(\"plastic tube\")\n",
    "print(\"After Adding a Product:\", products)\n"
   ]
  },
  {
   "cell_type": "code",
   "execution_count": 5,
   "id": "af382385-2eb4-47a9-af45-bafdedee3d76",
   "metadata": {},
   "outputs": [
    {
     "name": "stdout",
     "output_type": "stream",
     "text": [
      "After Inserting at Position 2: ['steel rod', 'copper wire', 'brass plate', 'aluminium sheet', 'iron pipe', 'plastic tube']\n"
     ]
    }
   ],
   "source": [
    "# 5. Insert a product at specific position\n",
    "products.insert(2, \"brass plate\")\n",
    "print(\"After Inserting at Position 2:\", products)\n"
   ]
  },
  {
   "cell_type": "code",
   "execution_count": 6,
   "id": "d2f7c71b-e3ab-4802-854c-914acf328819",
   "metadata": {},
   "outputs": [
    {
     "name": "stdout",
     "output_type": "stream",
     "text": [
      "After Removing 'copper wire': ['steel rod', 'brass plate', 'aluminium sheet', 'iron pipe', 'plastic tube']\n"
     ]
    }
   ],
   "source": [
    "# 6. Remove a product\n",
    "products.remove(\"copper wire\")\n",
    "print(\"After Removing 'copper wire':\", products)"
   ]
  },
  {
   "cell_type": "code",
   "execution_count": 7,
   "id": "556c02d8-642c-4feb-996f-a0021e9b17db",
   "metadata": {},
   "outputs": [
    {
     "name": "stdout",
     "output_type": "stream",
     "text": [
      "Sorted Product List: ['aluminium sheet', 'brass plate', 'iron pipe', 'plastic tube', 'steel rod']\n"
     ]
    }
   ],
   "source": [
    "# 7. Sort the list\n",
    "products.sort()\n",
    "print(\"Sorted Product List:\", products)\n"
   ]
  },
  {
   "cell_type": "code",
   "execution_count": 8,
   "id": "5b662abe-ba04-4de3-aaee-bda7053b96a2",
   "metadata": {},
   "outputs": [
    {
     "name": "stdout",
     "output_type": "stream",
     "text": [
      "Reversed Product List: ['steel rod', 'plastic tube', 'iron pipe', 'brass plate', 'aluminium sheet']\n"
     ]
    }
   ],
   "source": [
    "# 8. Reverse the list\n",
    "products.reverse()\n",
    "print(\"Reversed Product List:\", products)\n"
   ]
  },
  {
   "cell_type": "code",
   "execution_count": 9,
   "id": "68ebf9b9-9294-4069-8469-9358cc325830",
   "metadata": {},
   "outputs": [
    {
     "name": "stdout",
     "output_type": "stream",
     "text": [
      "First 3 Products: ['steel rod', 'plastic tube', 'iron pipe']\n"
     ]
    }
   ],
   "source": [
    "# 9. Slice list (first 3 products)\n",
    "sliced_list = products[:3]\n",
    "print(\"First 3 Products:\", sliced_list)"
   ]
  },
  {
   "cell_type": "code",
   "execution_count": 10,
   "id": "933f27db-c026-4494-b3bf-d16a3fd7ab86",
   "metadata": {},
   "outputs": [
    {
     "name": "stdout",
     "output_type": "stream",
     "text": [
      "'steel rod' is available in the list.\n"
     ]
    }
   ],
   "source": [
    "# 10. Check if a product exists\n",
    "search_item = \"steel rod\"\n",
    "if search_item in products:\n",
    "    print(f\"'{search_item}' is available in the list.\")\n",
    "else:\n",
    "    print(f\"'{search_item}' is NOT available in the list.\")\n"
   ]
  },
  {
   "cell_type": "code",
   "execution_count": null,
   "id": "2ea3e7d5-22fa-479a-a348-de4817c13e6a",
   "metadata": {},
   "outputs": [],
   "source": []
  }
 ],
 "metadata": {
  "kernelspec": {
   "display_name": "Python [conda env:base] *",
   "language": "python",
   "name": "conda-base-py"
  },
  "language_info": {
   "codemirror_mode": {
    "name": "ipython",
    "version": 3
   },
   "file_extension": ".py",
   "mimetype": "text/x-python",
   "name": "python",
   "nbconvert_exporter": "python",
   "pygments_lexer": "ipython3",
   "version": "3.13.5"
  }
 },
 "nbformat": 4,
 "nbformat_minor": 5
}
