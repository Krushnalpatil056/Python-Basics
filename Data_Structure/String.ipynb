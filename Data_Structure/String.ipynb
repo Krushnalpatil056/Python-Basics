{
 "cells": [
  {
   "cell_type": "markdown",
   "id": "38b6f059-68ba-4256-ab85-aae51e92dbd1",
   "metadata": {},
   "source": [
    "# 📘 Case Study: String Operations in Python\n",
    "### 📝 Problem Statement:\n",
    "\n",
    "A company stores product names in a system.\n",
    "They want to:\n",
    "\n",
    "   - Store product names as strings.\n",
    "    \n",
    "   - Perform operations like length, case conversion, searching, and replacing.\n",
    "    \n",
    "   - Display results step by step.\n",
    "\n",
    "This will help students understand basic string handling in Python."
   ]
  },
  {
   "cell_type": "code",
   "execution_count": 1,
   "id": "33856363-f7b9-40f5-8b2e-e27a6256fef3",
   "metadata": {},
   "outputs": [
    {
     "name": "stdout",
     "output_type": "stream",
     "text": [
      "Original Product Name: steel rod\n"
     ]
    }
   ],
   "source": [
    "# Case Study: String Operations in a Manufacturing System\n",
    "\n",
    "# 1. Store product name\n",
    "product = \"steel rod\"\n",
    "print(\"Original Product Name:\", product)"
   ]
  },
  {
   "cell_type": "code",
   "execution_count": 2,
   "id": "1c7fe875-b48b-43d0-92b0-9626667ab84b",
   "metadata": {},
   "outputs": [
    {
     "name": "stdout",
     "output_type": "stream",
     "text": [
      "Length of product name: 9\n"
     ]
    }
   ],
   "source": [
    "# 2. Find length of product name\n",
    "length = len(product)\n",
    "print(\"Length of product name:\", length)"
   ]
  },
  {
   "cell_type": "code",
   "execution_count": 3,
   "id": "7363376b-e3d6-4290-bd3d-613a6de8b07c",
   "metadata": {},
   "outputs": [
    {
     "name": "stdout",
     "output_type": "stream",
     "text": [
      "Uppercase: STEEL ROD\n"
     ]
    }
   ],
   "source": [
    "# 3. Convert to uppercase\n",
    "upper_product = product.upper()\n",
    "print(\"Uppercase:\", upper_product)"
   ]
  },
  {
   "cell_type": "code",
   "execution_count": 4,
   "id": "cc631949-0ccd-4f77-a6b5-9a7695092bd1",
   "metadata": {},
   "outputs": [
    {
     "name": "stdout",
     "output_type": "stream",
     "text": [
      "Lowercase: steel rod\n"
     ]
    }
   ],
   "source": [
    "# 4. Convert to lowercase\n",
    "lower_product = product.lower()\n",
    "print(\"Lowercase:\", lower_product)"
   ]
  },
  {
   "cell_type": "code",
   "execution_count": 5,
   "id": "fdba1aff-e222-4364-ba22-d9268c54b33b",
   "metadata": {},
   "outputs": [
    {
     "name": "stdout",
     "output_type": "stream",
     "text": [
      "Capitalized: Steel rod\n"
     ]
    }
   ],
   "source": [
    "# 5. Capitalize first letter\n",
    "capitalized_product = product.capitalize()\n",
    "print(\"Capitalized:\", capitalized_product)"
   ]
  },
  {
   "cell_type": "code",
   "execution_count": 6,
   "id": "bfb0c55c-56f6-4ec1-a8b8-00ee42ea838d",
   "metadata": {},
   "outputs": [
    {
     "name": "stdout",
     "output_type": "stream",
     "text": [
      "After Replacement: steel bar\n"
     ]
    }
   ],
   "source": [
    "# 6. Replace word in product\n",
    "new_product = product.replace(\"rod\", \"bar\")\n",
    "print(\"After Replacement:\", new_product)"
   ]
  },
  {
   "cell_type": "code",
   "execution_count": 7,
   "id": "6c55f2c8-98b8-4259-8429-8da93ddc29c6",
   "metadata": {},
   "outputs": [
    {
     "name": "stdout",
     "output_type": "stream",
     "text": [
      "'steel' is present in product name\n"
     ]
    }
   ],
   "source": [
    "# 7. Check if substring exists\n",
    "search_word = \"steel\"\n",
    "if search_word in product:\n",
    "    print(f\"'{search_word}' is present in product name\")\n",
    "else:\n",
    "    print(f\"'{search_word}' is NOT present in product name\")"
   ]
  },
  {
   "cell_type": "code",
   "execution_count": 8,
   "id": "6dce5f92-931d-4ea5-a1e0-801650dc0267",
   "metadata": {},
   "outputs": [
    {
     "name": "stdout",
     "output_type": "stream",
     "text": [
      "Sliced Product Name: steel\n"
     ]
    }
   ],
   "source": [
    "# 8. Slice product name\n",
    "sliced_product = product[0:5]  # first 5 characters\n",
    "print(\"Sliced Product Name:\", sliced_product)"
   ]
  },
  {
   "cell_type": "code",
   "execution_count": null,
   "id": "12689697-a773-4779-9790-10153da8cfbd",
   "metadata": {},
   "outputs": [],
   "source": []
  }
 ],
 "metadata": {
  "kernelspec": {
   "display_name": "Python [conda env:base] *",
   "language": "python",
   "name": "conda-base-py"
  },
  "language_info": {
   "codemirror_mode": {
    "name": "ipython",
    "version": 3
   },
   "file_extension": ".py",
   "mimetype": "text/x-python",
   "name": "python",
   "nbconvert_exporter": "python",
   "pygments_lexer": "ipython3",
   "version": "3.13.5"
  }
 },
 "nbformat": 4,
 "nbformat_minor": 5
}
