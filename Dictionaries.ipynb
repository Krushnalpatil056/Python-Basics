{
 "cells": [
  {
   "cell_type": "markdown",
   "id": "dcd2c12f-35fe-496f-956f-318cdd346200",
   "metadata": {},
   "source": [
    "# 📘 Case Study: Dictionary Operations in Python\n",
    "### 📝 Problem Statement\n",
    "\n",
    "A manufacturing company wants to store and manage machine details using a dictionary.\n",
    "They want to:\n",
    "\n",
    "   - Store machine information as key–value pairs.\n",
    "    \n",
    "   - Access and update machine details.\n",
    "    \n",
    "   - Add and remove entries.\n",
    "    \n",
    "   - Display all keys, values, and items.\n",
    "\n",
    "This case study helps students understand **dictionary operations** in Python."
   ]
  },
  {
   "cell_type": "code",
   "execution_count": 1,
   "id": "7ace836b-de0f-4fe1-872c-c45789ac4a5b",
   "metadata": {},
   "outputs": [
    {
     "name": "stdout",
     "output_type": "stream",
     "text": [
      "Original Machine Details: {'M101': 'Lathe Machine', 'M102': 'Drilling Machine', 'M103': 'Milling Machine'}\n"
     ]
    }
   ],
   "source": [
    "# Assistant\n",
    "# 1. Create a dictionary to store machine details\n",
    "# Dictionary with machine IDs as keys and machine types as values\n",
    "machine_details = {\n",
    "    \"M101\": \"Lathe Machine\",    # Machine ID M101 is a Lathe Machine\n",
    "    \"M102\": \"Drilling Machine\", # Machine ID M102 is a Drilling Machine\n",
    "    \"M103\": \"Milling Machine\"   # Machine ID M103 is a Milling Machine\n",
    "}\n",
    "\n",
    "# Print the original dictionary to the console\n",
    "print(\"Original Machine Details:\", machine_details)"
   ]
  },
  {
   "cell_type": "code",
   "execution_count": 2,
   "id": "96bc85b2-b9be-48e0-8791-a06702d027b4",
   "metadata": {},
   "outputs": [
    {
     "name": "stdout",
     "output_type": "stream",
     "text": [
      "Machine M102: Drilling Machine\n"
     ]
    }
   ],
   "source": [
    "# 2. Access value using key\n",
    "print(\"Machine M102:\", machine_details[\"M102\"])"
   ]
  },
  {
   "cell_type": "code",
   "execution_count": 3,
   "id": "a2e36f24-0586-4ac4-b640-596491cd3cb2",
   "metadata": {},
   "outputs": [
    {
     "name": "stdout",
     "output_type": "stream",
     "text": [
      "After Adding M104: {'M101': 'Lathe Machine', 'M102': 'Drilling Machine', 'M103': 'Milling Machine', 'M104': 'Grinding Machine'}\n"
     ]
    }
   ],
   "source": [
    "# 3. Add a new machine\n",
    "machine_details[\"M104\"] = \"Grinding Machine\"\n",
    "print(\"After Adding M104:\", machine_details)"
   ]
  },
  {
   "cell_type": "code",
   "execution_count": 4,
   "id": "35a34fd7-bde2-4183-b2f8-a6e6519ede79",
   "metadata": {},
   "outputs": [
    {
     "name": "stdout",
     "output_type": "stream",
     "text": [
      "After Updating M103: {'M101': 'Lathe Machine', 'M102': 'Drilling Machine', 'M103': 'CNC Milling Machine', 'M104': 'Grinding Machine'}\n"
     ]
    }
   ],
   "source": [
    "# 4. Update existing machine name\n",
    "machine_details[\"M103\"] = \"CNC Milling Machine\"\n",
    "print(\"After Updating M103:\", machine_details)"
   ]
  },
  {
   "cell_type": "code",
   "execution_count": 5,
   "id": "822e905c-9e93-4024-84c7-1f0baaca2532",
   "metadata": {},
   "outputs": [
    {
     "name": "stdout",
     "output_type": "stream",
     "text": [
      "Removed Machine: Lathe Machine\n",
      "After Removal: {'M102': 'Drilling Machine', 'M103': 'CNC Milling Machine', 'M104': 'Grinding Machine'}\n"
     ]
    }
   ],
   "source": [
    "# 5. Remove a machine\n",
    "removed_item = machine_details.pop(\"M101\")\n",
    "print(f\"Removed Machine: {removed_item}\")\n",
    "print(\"After Removal:\", machine_details)"
   ]
  },
  {
   "cell_type": "code",
   "execution_count": 6,
   "id": "b4963eaf-8007-4df2-93a0-0da943348ddc",
   "metadata": {},
   "outputs": [
    {
     "name": "stdout",
     "output_type": "stream",
     "text": [
      "Machine IDs: ['M102', 'M103', 'M104']\n",
      "Machine Names: ['Drilling Machine', 'CNC Milling Machine', 'Grinding Machine']\n"
     ]
    }
   ],
   "source": [
    "# 6. Get all keys and values\n",
    "print(\"Machine IDs:\", list(machine_details.keys()))\n",
    "print(\"Machine Names:\", list(machine_details.values()))"
   ]
  },
  {
   "cell_type": "code",
   "execution_count": 7,
   "id": "6890f3ef-7e3c-48f2-a7d2-3ffd3a09352e",
   "metadata": {},
   "outputs": [
    {
     "name": "stdout",
     "output_type": "stream",
     "text": [
      "All Machine Details (key-value pairs): [('M102', 'Drilling Machine'), ('M103', 'CNC Milling Machine'), ('M104', 'Grinding Machine')]\n"
     ]
    }
   ],
   "source": [
    "# 7. Display all key-value pairs\n",
    "print(\"All Machine Details (key-value pairs):\", list(machine_details.items()))"
   ]
  },
  {
   "cell_type": "code",
   "execution_count": 8,
   "id": "09e909e2-45d4-4cd5-bf26-15f6c1450534",
   "metadata": {},
   "outputs": [
    {
     "name": "stdout",
     "output_type": "stream",
     "text": [
      "M102 is available in the dictionary.\n"
     ]
    }
   ],
   "source": [
    "# 8. Check if a machine ID exists\n",
    "search_key = \"M102\"\n",
    "if search_key in machine_details:\n",
    "    print(f\"{search_key} is available in the dictionary.\")\n",
    "else:\n",
    "    print(f\"{search_key} is NOT found in the dictionary.\")"
   ]
  },
  {
   "cell_type": "code",
   "execution_count": 9,
   "id": "e9be02b7-46e2-4f67-a70f-0e3b6b790dbe",
   "metadata": {},
   "outputs": [
    {
     "name": "stdout",
     "output_type": "stream",
     "text": [
      "\n",
      "--- Machine Report ---\n",
      "Machine ID: M102 → Name: Drilling Machine\n",
      "Machine ID: M103 → Name: CNC Milling Machine\n",
      "Machine ID: M104 → Name: Grinding Machine\n"
     ]
    }
   ],
   "source": [
    "# 9. Use dictionary in a simple report format\n",
    "print(\"\\n--- Machine Report ---\")\n",
    "for key, value in machine_details.items():\n",
    "    print(f\"Machine ID: {key} → Name: {value}\")"
   ]
  }
 ],
 "metadata": {
  "kernelspec": {
   "display_name": "Python [conda env:base] *",
   "language": "python",
   "name": "conda-base-py"
  },
  "language_info": {
   "codemirror_mode": {
    "name": "ipython",
    "version": 3
   },
   "file_extension": ".py",
   "mimetype": "text/x-python",
   "name": "python",
   "nbconvert_exporter": "python",
   "pygments_lexer": "ipython3",
   "version": "3.13.5"
  }
 },
 "nbformat": 4,
 "nbformat_minor": 5
}
