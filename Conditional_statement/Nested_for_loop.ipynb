{
 "cells": [
  {
   "cell_type": "markdown",
   "id": "3303d112-236c-4c7f-9ab2-884cd05266f1",
   "metadata": {},
   "source": [
    "# Case Study: Student attendance monitoring (Education domain)\n",
    "### Problem statement:\n",
    "A class has 5 student. for each student, ask how many days they were present out of 30.\n",
    "    - skip the entry if the attendance is negative (use continue)\n",
    "    -if attendance is more than 30, show warning and stop the loop (use breck)\n",
    "    -use nested loop structure if we later expand to include multiple classes"
   ]
  },
  {
   "cell_type": "code",
   "execution_count": 1,
   "id": "b93ca382-8cad-4359-a848-5f597eef34a4",
   "metadata": {},
   "outputs": [
    {
     "name": "stdout",
     "output_type": "stream",
     "text": [
      "checking student:1\n"
     ]
    },
    {
     "name": "stdin",
     "output_type": "stream",
     "text": [
      "Enter attendance 0 to 30 22\n"
     ]
    },
    {
     "name": "stdout",
     "output_type": "stream",
     "text": [
      "recorded attendance 22\n",
      "checking student:2\n"
     ]
    },
    {
     "name": "stdin",
     "output_type": "stream",
     "text": [
      "Enter attendance 0 to 30 3\n"
     ]
    },
    {
     "name": "stdout",
     "output_type": "stream",
     "text": [
      "recorded attendance 3\n",
      "checking student:3\n"
     ]
    },
    {
     "name": "stdin",
     "output_type": "stream",
     "text": [
      "Enter attendance 0 to 30 24\n"
     ]
    },
    {
     "name": "stdout",
     "output_type": "stream",
     "text": [
      "recorded attendance 24\n",
      "checking student:4\n"
     ]
    },
    {
     "name": "stdin",
     "output_type": "stream",
     "text": [
      "Enter attendance 0 to 30 23\n"
     ]
    },
    {
     "name": "stdout",
     "output_type": "stream",
     "text": [
      "recorded attendance 23\n",
      "checking student:5\n"
     ]
    },
    {
     "name": "stdin",
     "output_type": "stream",
     "text": [
      "Enter attendance 0 to 30 35\n"
     ]
    },
    {
     "name": "stdout",
     "output_type": "stream",
     "text": [
      "Data Error, Stop system.\n"
     ]
    }
   ],
   "source": [
    "## Loop through students numbered 1 to 5\n",
    "for student in range(1,6):\n",
    "    print(f\"checking student:{student}\")\n",
    "    # Get attendance input from user (expected range: 0-30)\n",
    "    attendance= int(input(\"Enter attendance 0 to 30\"))\n",
    "\n",
    "    # Check if attendance is negative\n",
    "    if attendance < 0:\n",
    "        print(\"Invalid data, skip student.\")\n",
    "        continue    # Skip to the next iteration of the loop\n",
    "    # Check if attendance exceeds maximum\n",
    "    if attendance > 30:\n",
    "        print(\"Data Error, Stop system.\")\n",
    "        break      # stops the loop completely\n",
    "\n",
    "    # If attendance is valid, record it\n",
    "    print(\"recorded attendance\",attendance)"
   ]
  },
  {
   "cell_type": "code",
   "execution_count": null,
   "id": "e8d7b343-828e-497e-95e6-d013c203a882",
   "metadata": {},
   "outputs": [],
   "source": []
  }
 ],
 "metadata": {
  "kernelspec": {
   "display_name": "Python [conda env:base] *",
   "language": "python",
   "name": "conda-base-py"
  },
  "language_info": {
   "codemirror_mode": {
    "name": "ipython",
    "version": 3
   },
   "file_extension": ".py",
   "mimetype": "text/x-python",
   "name": "python",
   "nbconvert_exporter": "python",
   "pygments_lexer": "ipython3",
   "version": "3.13.5"
  }
 },
 "nbformat": 4,
 "nbformat_minor": 5
}
