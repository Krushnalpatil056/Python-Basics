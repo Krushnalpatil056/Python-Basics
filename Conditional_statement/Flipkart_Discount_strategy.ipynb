{
 "cells": [
  {
   "cell_type": "markdown",
   "id": "df098ea6-f118-4081-b979-f1be01e5f1bf",
   "metadata": {},
   "source": [
    "# Case Study:Flipkart Discount strategy\n",
    "**Problem**:flipkart wants to give discounts based on purchase ammount:\n",
    "    - 5,000 Rs ---> 20% off\n",
    "    - 3,000 Rs ---> 10% off\n",
    "    - else ---> no discount\n",
    "\n",
    "**solution**"
   ]
  },
  {
   "cell_type": "code",
   "execution_count": 1,
   "id": "e4748c41-778d-4b41-b476-5729aa7088fc",
   "metadata": {},
   "outputs": [
    {
     "name": "stdin",
     "output_type": "stream",
     "text": [
      "enter amount: 20\n"
     ]
    }
   ],
   "source": [
    "purchase = int(input(\"enter amount:\"))# Check if purchase amount is greater than or equal to 5000\n"
   ]
  },
  {
   "cell_type": "code",
   "execution_count": 2,
   "id": "579415ed-4bed-4133-bd5e-90879862f052",
   "metadata": {},
   "outputs": [
    {
     "name": "stdout",
     "output_type": "stream",
     "text": [
      "no discount , shop more\n"
     ]
    }
   ],
   "source": [
    "if purchase >= 5000:\n",
    "    # Calculate discount as 20% of purchase amount\n",
    "    discount= 0.2*purchase\n",
    "    # Display the discount amount and percentage\n",
    "    print(f\"discount :RS{discount}(20 % OFF)\")\n",
    "    \n",
    "elif purchase >=3000 and purchase <5000:\n",
    "    discount= 0.1*purchase\n",
    "    print(f\"discount :RS{discount}(10 % OFF)\")\n",
    "else:\n",
    "    discount= 0\n",
    "    print(\"no discount , shop more\")\n",
    "\n"
   ]
  },
  {
   "cell_type": "code",
   "execution_count": 3,
   "id": "8e195fc9-c446-448a-87d7-7bd1346092fa",
   "metadata": {},
   "outputs": [
    {
     "name": "stdout",
     "output_type": "stream",
     "text": [
      "final price : RS20\n"
     ]
    }
   ],
   "source": [
    "final_amount = purchase - discount\n",
    "print (f\"final price : RS{final_amount}\")"
   ]
  }
 ],
 "metadata": {
  "kernelspec": {
   "display_name": "Python [conda env:base] *",
   "language": "python",
   "name": "conda-base-py"
  },
  "language_info": {
   "codemirror_mode": {
    "name": "ipython",
    "version": 3
   },
   "file_extension": ".py",
   "mimetype": "text/x-python",
   "name": "python",
   "nbconvert_exporter": "python",
   "pygments_lexer": "ipython3",
   "version": "3.13.5"
  }
 },
 "nbformat": 4,
 "nbformat_minor": 5
}
