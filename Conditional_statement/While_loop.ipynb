{
 "cells": [
  {
   "cell_type": "markdown",
   "id": "2ed65ec0-07fc-4efd-8e80-9aaab5950ff3",
   "metadata": {},
   "source": [
    "# Case study: Retail (General store)\n",
    "**Problem**:keep asking for items name until customer type\"exit\".dont use list"
   ]
  },
  {
   "cell_type": "code",
   "execution_count": 1,
   "id": "725fade9-e914-4681-a0ec-2687b794b340",
   "metadata": {},
   "outputs": [
    {
     "name": "stdout",
     "output_type": "stream",
     "text": [
      "Welcome to xyz General store\n",
      "type 'EXIT' to finish your order\n"
     ]
    },
    {
     "name": "stdin",
     "output_type": "stream",
     "text": [
      "enter item: milk\n"
     ]
    }
   ],
   "source": [
    "# Display welcome message to the store\n",
    "print(\"Welcome to xyz General store\")\n",
    "# Inform user how to exit the ordering process\n",
    "print(\"type 'EXIT' to finish your order\")\n",
    "\n",
    "# Initialize counter for tracking number of items\n",
    "count=0\n",
    "# Prompt user to enter the first item\n",
    "item=input('enter item:')"
   ]
  },
  {
   "cell_type": "code",
   "execution_count": 2,
   "id": "e4d26781-da7a-4ef1-b0fa-99b0bbad35bb",
   "metadata": {},
   "outputs": [
    {
     "name": "stdout",
     "output_type": "stream",
     "text": [
      "item 1 added: milk\n"
     ]
    },
    {
     "name": "stdin",
     "output_type": "stream",
     "text": [
      "enter item: ghee\n"
     ]
    },
    {
     "name": "stdout",
     "output_type": "stream",
     "text": [
      "item 2 added: ghee\n"
     ]
    },
    {
     "name": "stdin",
     "output_type": "stream",
     "text": [
      "enter item: shrikhand\n"
     ]
    },
    {
     "name": "stdout",
     "output_type": "stream",
     "text": [
      "item 3 added: shrikhand\n"
     ]
    },
    {
     "name": "stdin",
     "output_type": "stream",
     "text": [
      "enter item: exit\n"
     ]
    }
   ],
   "source": [
    "# Loop continues until user enters 'exit' (case-insensitive)\n",
    "while item.lower()!= 'exit':\n",
    "    # Increment counter for each item added\n",
    "    count+=1\n",
    "    # Display the current item number and value\n",
    "    print(\"item\",count,'added:',item)\n",
    "    # Prompt user for the next item\n",
    "    item=input('enter item:')"
   ]
  },
  {
   "cell_type": "code",
   "execution_count": 3,
   "id": "0de06da8-40da-494c-9318-375d9436a020",
   "metadata": {},
   "outputs": [
    {
     "name": "stdout",
     "output_type": "stream",
     "text": [
      "total item enter 3\n"
     ]
    }
   ],
   "source": [
    "print('total item enter', count)"
   ]
  }
 ],
 "metadata": {
  "kernelspec": {
   "display_name": "Python [conda env:base] *",
   "language": "python",
   "name": "conda-base-py"
  },
  "language_info": {
   "codemirror_mode": {
    "name": "ipython",
    "version": 3
   },
   "file_extension": ".py",
   "mimetype": "text/x-python",
   "name": "python",
   "nbconvert_exporter": "python",
   "pygments_lexer": "ipython3",
   "version": "3.13.5"
  }
 },
 "nbformat": 4,
 "nbformat_minor": 5
}
