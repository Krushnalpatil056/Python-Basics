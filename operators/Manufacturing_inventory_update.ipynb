{
 "cells": [
  {
   "cell_type": "markdown",
   "id": "658e4003-8287-4247-a39c-e4ce965d26bb",
   "metadata": {},
   "source": [
    "# 📦Case Study:Manufacturing Inventory Update\n",
    "### Problem Statement:\n",
    "A manufacturing unit tracks the stock of component. Update the stock after new supplies arrive and after dispatches using **Assignment operators.**"
   ]
  },
  {
   "cell_type": "code",
   "execution_count": 1,
   "id": "8dbe56e1-7506-49f7-a9fd-d8278a39cdf7",
   "metadata": {},
   "outputs": [
    {
     "name": "stdin",
     "output_type": "stream",
     "text": [
      "Enter stock: 500\n"
     ]
    }
   ],
   "source": [
    "# Get the initial stock quantity from user input and convert to integer\n",
    "stock = int(input(\"Enter stock:\"))"
   ]
  },
  {
   "cell_type": "code",
   "execution_count": 2,
   "id": "f8488878-0a0e-4b4c-a787-6e9de4d1e82a",
   "metadata": {},
   "outputs": [
    {
     "name": "stdin",
     "output_type": "stream",
     "text": [
      "Enter new supplies: 150\n"
     ]
    }
   ],
   "source": [
    "# Prompt the user to enter new supplies, convert the input to an integer, and add it to the current stock\n",
    "stock += int(input(\"Enter new supplies:\"))"
   ]
  },
  {
   "cell_type": "code",
   "execution_count": 3,
   "id": "2e9e1fec-5f18-4010-ba3b-fb6d72710013",
   "metadata": {},
   "outputs": [
    {
     "name": "stdin",
     "output_type": "stream",
     "text": [
      "Enter Dispatches: 200\n"
     ]
    }
   ],
   "source": [
    "# Dispatch made\n",
    "stock -= int(input(\"Enter Dispatches:\"))"
   ]
  },
  {
   "cell_type": "code",
   "execution_count": 4,
   "id": "ef75f226-cbb0-49e4-b347-bfc53a950296",
   "metadata": {},
   "outputs": [
    {
     "name": "stdin",
     "output_type": "stream",
     "text": [
      "Enter damage percentage during transport:  5\n"
     ]
    }
   ],
   "source": [
    "# Get damage percentage from user input\n",
    "damage_percent = float(input(\"Enter damage percentage during transport: \"))\n",
    "\n",
    "# Calculate the amount of damaged stock based on the percentage\n",
    "damage = (stock * damage_percent) / 100\n",
    "\n",
    "# Reduce the stock by the damaged amount\n",
    "stock -= damage"
   ]
  },
  {
   "cell_type": "code",
   "execution_count": 5,
   "id": "7dc62d88-c3c4-41b2-87d9-ff971ad73231",
   "metadata": {},
   "outputs": [
    {
     "name": "stdout",
     "output_type": "stream",
     "text": [
      "Final usable stock 427\n"
     ]
    }
   ],
   "source": [
    "print(\"Final usable stock\", int(stock))"
   ]
  }
 ],
 "metadata": {
  "kernelspec": {
   "display_name": "Python [conda env:base] *",
   "language": "python",
   "name": "conda-base-py"
  },
  "language_info": {
   "codemirror_mode": {
    "name": "ipython",
    "version": 3
   },
   "file_extension": ".py",
   "mimetype": "text/x-python",
   "name": "python",
   "nbconvert_exporter": "python",
   "pygments_lexer": "ipython3",
   "version": "3.13.5"
  }
 },
 "nbformat": 4,
 "nbformat_minor": 5
}
