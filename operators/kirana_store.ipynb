{
 "cells": [
  {
   "cell_type": "markdown",
   "id": "6820fe4c-024c-4b2c-b07d-de14a5f9e0d6",
   "metadata": {},
   "source": [
    "# 🛒 Case Study: Retail Billing(Kirana Store)\n",
    "### problem statement \n",
    " A kirana store needs a billing system that calculate the total price for each item (price*quantity),applies a flat discount, and shows a final bil.\n",
    "\n",
    " We'll use **Arithmetic operators** to implement this.\n",
    " "
   ]
  },
  {
   "cell_type": "code",
   "execution_count": 1,
   "id": "1b5b1193-2b12-45b9-8ce2-1fa2e0fabe2a",
   "metadata": {},
   "outputs": [
    {
     "name": "stdin",
     "output_type": "stream",
     "text": [
      "item1 price: 500\n",
      "item1 qty: 2\n",
      "item2 price: 1000\n",
      "item2 qty: 5\n"
     ]
    }
   ],
   "source": [
    "# Get item1 price and quantity from user input, converting both to integers\n",
    "item1_price,item1_qty = int(input(\"item1 price:\")),int(input(\"item1 qty:\"))\n",
    "# Get item2 price and quantity from user input, converting both to integers\n",
    "item2_price,item2_qty = int(input(\"item2 price:\")),int(input(\"item2 qty:\"))"
   ]
  },
  {
   "cell_type": "code",
   "execution_count": 2,
   "id": "7cf29173-ab69-4450-aa67-5281d741e8cc",
   "metadata": {},
   "outputs": [],
   "source": [
    "# calculate totals:\n",
    "\n",
    "# Calculate the total cost for item1 by multiplying its price by quantity\n",
    "item1_total = (item1_price*item1_qty)\n",
    "\n",
    "# Calculate the total cost for item2 by multiplying its price by quantity\n",
    "item2_total = (item2_price*item2_qty)"
   ]
  },
  {
   "cell_type": "code",
   "execution_count": 3,
   "id": "ace3f8e4-b290-491f-bf17-b3cce30d49c3",
   "metadata": {},
   "outputs": [],
   "source": [
    "#Subtotal\n",
    "subtotal = item1_total + item2_total\n"
   ]
  },
  {
   "cell_type": "code",
   "execution_count": 4,
   "id": "8f0057c0-320a-4d06-bf83-93b5729a7adc",
   "metadata": {},
   "outputs": [
    {
     "name": "stdin",
     "output_type": "stream",
     "text": [
      "discount amount in Rs: 60\n"
     ]
    }
   ],
   "source": [
    "# Apply Discount:\n",
    "# Subtract the discount amount from the subtotal to calculate the final total\n",
    "discount = int(input(\"discount amount in Rs:\"))  # Get discount amount from user input\n",
    "\n",
    "final_total = subtotal - discount  # Calculate final total after applying discount"
   ]
  },
  {
   "cell_type": "code",
   "execution_count": 5,
   "id": "8e500c7f-e71d-414e-ae8a-c5a21a10a852",
   "metadata": {},
   "outputs": [
    {
     "name": "stdout",
     "output_type": "stream",
     "text": [
      "subtotal: 6000\n",
      "discount: 60\n",
      "Final Amount Bill: 5940\n"
     ]
    }
   ],
   "source": [
    "# Print the subtotal amount before any discounts\n",
    "print(\"subtotal:\", subtotal)\n",
    "\n",
    "# Print the discount amount that was applied\n",
    "print(\"discount:\", discount)\n",
    "\n",
    "# Print the final total amount after applying the discount\n",
    "print(\"Final Amount Bill:\", final_total)"
   ]
  }
 ],
 "metadata": {
  "kernelspec": {
   "display_name": "Python [conda env:base] *",
   "language": "python",
   "name": "conda-base-py"
  },
  "language_info": {
   "codemirror_mode": {
    "name": "ipython",
    "version": 3
   },
   "file_extension": ".py",
   "mimetype": "text/x-python",
   "name": "python",
   "nbconvert_exporter": "python",
   "pygments_lexer": "ipython3",
   "version": "3.13.5"
  }
 },
 "nbformat": 4,
 "nbformat_minor": 5
}
