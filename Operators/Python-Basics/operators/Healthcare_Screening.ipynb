{
 "cells": [
  {
   "cell_type": "markdown",
   "id": "778571c0-1b79-4c76-b29b-84ee5c5c4f5b",
   "metadata": {},
   "source": [
    "# 🏥Case Study: Healthcare Screening\n",
    "### Problem Statement:\n",
    "in screening program, Check if patient is at health risk based on **BP and Sugar levels** using **logical operators**  "
   ]
  },
  {
   "cell_type": "code",
   "execution_count": 1,
   "id": "3ef89451-d927-422f-837d-11ef98369d4e",
   "metadata": {},
   "outputs": [
    {
     "name": "stdin",
     "output_type": "stream",
     "text": [
      "Enter BP : 150\n",
      "enter Sugar level: 170\n"
     ]
    }
   ],
   "source": [
    "# Get blood pressure value from user input\n",
    "bp = int(input(\"Enter BP :\"))\n",
    "\n",
    "# Get blood sugar level from user input\n",
    "Sugar_level = int(input(\"enter Sugar level:\"))"
   ]
  },
  {
   "cell_type": "code",
   "execution_count": 2,
   "id": "e9f8521d-196c-481d-839c-19fb74c39c4f",
   "metadata": {},
   "outputs": [],
   "source": [
    "# Check risk level based on blood pressure (bp) and sugar level\n",
    "if bp>140 and Sugar_level>160:\n",
    "    status=\"high risk\"  # Both bp and sugar level are high\n",
    "elif bp<140 and Sugar_level>160 or bp>140 and Sugar_level<160:\n",
    "    status= \"moderate risk\"  # Either bp or sugar level is high, but not both\n",
    "else:\n",
    "    status= \"low risk\"  # Both bp and sugar level are within normal range"
   ]
  },
  {
   "cell_type": "code",
   "execution_count": 3,
   "id": "e4776dbb-e4e4-4164-aae6-0eeeda32759f",
   "metadata": {},
   "outputs": [
    {
     "name": "stdout",
     "output_type": "stream",
     "text": [
      "BP: 150 |Sugar: 170\n",
      "Health risk: high risk\n"
     ]
    }
   ],
   "source": [
    "# Print blood pressure and sugar level values\n",
    "print(\"BP:\",bp,\"|Sugar:\",Sugar_level)\n",
    "\n",
    "# Print the health risk status based on the measurements\n",
    "print(\"Health risk:\",status)"
   ]
  }
 ],
 "metadata": {
  "kernelspec": {
   "display_name": "Python [conda env:base] *",
   "language": "python",
   "name": "conda-base-py"
  },
  "language_info": {
   "codemirror_mode": {
    "name": "ipython",
    "version": 3
   },
   "file_extension": ".py",
   "mimetype": "text/x-python",
   "name": "python",
   "nbconvert_exporter": "python",
   "pygments_lexer": "ipython3",
   "version": "3.13.5"
  }
 },
 "nbformat": 4,
 "nbformat_minor": 5
}
