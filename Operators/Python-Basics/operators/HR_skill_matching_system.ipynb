{
 "cells": [
  {
   "cell_type": "markdown",
   "id": "0285c9f1-9452-4321-8937-5f21d55d26fa",
   "metadata": {},
   "source": [
    "# ✨Case Study: HR Skill Matching System\n",
    "### Problem Statement:\n",
    "An HR system needs to check if a candidate has required skills using **identity and members operators**"
   ]
  },
  {
   "cell_type": "code",
   "execution_count": 1,
   "id": "6faa9f92-9608-4f15-aaf4-ccab72171a2e",
   "metadata": {},
   "outputs": [],
   "source": [
    "candidate = {\n",
    "    \"id\": 123,\n",
    "    \"name\": \"Priya\",\n",
    "    \"skills\": [\"Python\", \" pandas \", \"SQL\", \"communication\"]\n",
    "}"
   ]
  },
  {
   "cell_type": "code",
   "execution_count": 2,
   "id": "4b303dc8-6079-4441-b9b0-076a477012a2",
   "metadata": {},
   "outputs": [
    {
     "name": "stdout",
     "output_type": "stream",
     "text": [
      "Priyaneed aditional traning\n"
     ]
    }
   ],
   "source": [
    "if 'pandas'in candidate['skills'] and 'communication'in candidate['skills']:\n",
    "    print(f\"{candiadte['name']}is eligible for data analyst role\")\n",
    "else:\n",
    "    print(f\"{candidate['name']}need aditional traning\")"
   ]
  }
 ],
 "metadata": {
  "kernelspec": {
   "display_name": "Python [conda env:base] *",
   "language": "python",
   "name": "conda-base-py"
  },
  "language_info": {
   "codemirror_mode": {
    "name": "ipython",
    "version": 3
   },
   "file_extension": ".py",
   "mimetype": "text/x-python",
   "name": "python",
   "nbconvert_exporter": "python",
   "pygments_lexer": "ipython3",
   "version": "3.13.5"
  }
 },
 "nbformat": 4,
 "nbformat_minor": 5
}
