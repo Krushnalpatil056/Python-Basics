{
 "cells": [
  {
   "cell_type": "markdown",
   "id": "81913160-0824-4c79-9bfe-b06a3b7e1f01",
   "metadata": {},
   "source": [
    "# 📑Case Study: Education Result Evaluation\n",
    "### Problem Statement:\n",
    "Create a program to evaluates student results using marks and assigns performance categories like 'Distinction','First Class',or 'Fail'.\n",
    "\n",
    "we'll use **comparison operators** here."
   ]
  },
  {
   "cell_type": "code",
   "execution_count": 1,
   "id": "9dd09dae-64c1-460d-be93-06f64ef019e2",
   "metadata": {},
   "outputs": [
    {
     "name": "stdin",
     "output_type": "stream",
     "text": [
      "Enter marks 99\n"
     ]
    }
   ],
   "source": [
    "# Prompt the user to enter marks and convert the input to an integer\n",
    "marks = int(input(\"Enter marks\"))"
   ]
  },
  {
   "cell_type": "code",
   "execution_count": 2,
   "id": "e3fc874e-15f8-444a-93f3-f408bb8aa726",
   "metadata": {},
   "outputs": [],
   "source": [
    "# Determine the academic category based on marks\n",
    "if marks >=75:\n",
    "    categories=\"Distinction\"  # 75 or above is Distinction\n",
    "elif marks >=60:\n",
    "    categories= \"First Class\"  # 60-74 is First Class\n",
    "elif marks >=40:\n",
    "    categories= \"Pass class\"  # 40-59 is Pass class\n",
    "else:\n",
    "    categories='Fail'  # Below 40 is Fail"
   ]
  },
  {
   "cell_type": "code",
   "execution_count": 3,
   "id": "58389c3e-f551-4812-a744-9c9bf4c89fde",
   "metadata": {},
   "outputs": [
    {
     "name": "stdout",
     "output_type": "stream",
     "text": [
      "student Marks: 99\n",
      "Student categories: Distinction\n"
     ]
    }
   ],
   "source": [
    "# Print the marks obtained by students\n",
    "print(\"student Marks:\",marks)\n",
    "\n",
    "# Print the categories of students (e.g., pass, fail, distinction)\n",
    "print(\"Student categories:\",categories)"
   ]
  }
 ],
 "metadata": {
  "kernelspec": {
   "display_name": "Python [conda env:base] *",
   "language": "python",
   "name": "conda-base-py"
  },
  "language_info": {
   "codemirror_mode": {
    "name": "ipython",
    "version": 3
   },
   "file_extension": ".py",
   "mimetype": "text/x-python",
   "name": "python",
   "nbconvert_exporter": "python",
   "pygments_lexer": "ipython3",
   "version": "3.13.5"
  }
 },
 "nbformat": 4,
 "nbformat_minor": 5
}
