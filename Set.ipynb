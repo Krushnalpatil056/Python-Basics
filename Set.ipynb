{
 "cells": [
  {
   "cell_type": "markdown",
   "id": "7fd0e7f4-e2cf-4de9-991e-b9a4b0632c9b",
   "metadata": {},
   "source": [
    "# 📘 Case Study: Set Operations in Python\n",
    "### 📝 Problem Statement\n",
    "\n",
    "A manufacturing unit keeps records of machine IDs that completed maintenance and calibration.\n",
    "They want to:\n",
    "\n",
    "   - Store data using sets (since sets automatically remove duplicates).\n",
    "    \n",
    "   - Find machines common to both lists.\n",
    "    \n",
    "   - Identify machines pending calibration.\n",
    "    \n",
    "   - Perform set operations like union, intersection, difference, and update.\n",
    "\n",
    "This case study helps students understand basic **set operations** in Python."
   ]
  },
  {
   "cell_type": "code",
   "execution_count": 1,
   "id": "603666d9-29a2-408a-b5e3-3d70ed38825a",
   "metadata": {},
   "outputs": [
    {
     "name": "stdout",
     "output_type": "stream",
     "text": [
      "Machines Completed Maintenance: {'M104', 'M102', 'M103', 'M105', 'M101'}\n"
     ]
    }
   ],
   "source": [
    "# 1. Machines that completed maintenance\n",
    "maintenance_set = {\"M101\", \"M102\", \"M103\", \"M104\", \"M105\"}  # Create a set of machines that have completed maintenance\n",
    "print(\"Machines Completed Maintenance:\", maintenance_set)"
   ]
  },
  {
   "cell_type": "code",
   "execution_count": 2,
   "id": "856d5ed8-8653-4d8f-a13e-30027bb30ee0",
   "metadata": {},
   "outputs": [
    {
     "name": "stdout",
     "output_type": "stream",
     "text": [
      "Machines Completed Calibration: {'M103', 'M104', 'M106', 'M107'}\n"
     ]
    }
   ],
   "source": [
    "# 2. Machines that completed calibration\n",
    "calibration_set = {\"M103\", \"M104\", \"M106\", \"M107\"}  # Create a set of machines that have completed calibration\n",
    "print(\"Machines Completed Calibration:\", calibration_set)"
   ]
  },
  {
   "cell_type": "code",
   "execution_count": 3,
   "id": "33c90c6b-6866-4462-a487-cf7afb4421d9",
   "metadata": {},
   "outputs": [
    {
     "name": "stdout",
     "output_type": "stream",
     "text": [
      "Machines completed both maintenance and calibration: {'M103', 'M104'}\n"
     ]
    }
   ],
   "source": [
    "# 3. Find machines common to both (intersection)\n",
    "common_machines = maintenance_set.intersection(calibration_set)  # Find machines that have completed both maintenance and calibration\n",
    "print(\"Machines completed both maintenance and calibration:\", common_machines)"
   ]
  },
  {
   "cell_type": "code",
   "execution_count": 4,
   "id": "a679318e-37e8-44b5-85a0-49bd66d05f46",
   "metadata": {},
   "outputs": [
    {
     "name": "stdout",
     "output_type": "stream",
     "text": [
      "Machines pending calibration: {'M105', 'M102', 'M101'}\n"
     ]
    }
   ],
   "source": [
    "# 4. Find machines pending calibration (difference)\n",
    "pending_calibration = maintenance_set.difference(calibration_set)  # Find machines that have completed maintenance but not calibration\n",
    "print(\"Machines pending calibration:\", pending_calibration)"
   ]
  },
  {
   "cell_type": "code",
   "execution_count": 5,
   "id": "03221f08-47b8-4378-b7d9-a0baaff01879",
   "metadata": {},
   "outputs": [
    {
     "name": "stdout",
     "output_type": "stream",
     "text": [
      "All Machines (Maintenance or Calibration): {'M103', 'M105', 'M107', 'M104', 'M102', 'M106', 'M101'}\n"
     ]
    }
   ],
   "source": [
    "# 5. Find all machines that have done either maintenance or calibration (union)\n",
    "all_machines = maintenance_set.union(calibration_set)  # Combine both sets to get all unique machines from either set\n",
    "print(\"All Machines (Maintenance or Calibration):\", all_machines)"
   ]
  },
  {
   "cell_type": "code",
   "execution_count": 6,
   "id": "e231b18c-ac1a-4890-af4b-78a4f70a35f5",
   "metadata": {},
   "outputs": [
    {
     "name": "stdout",
     "output_type": "stream",
     "text": [
      "After Adding M108 to Maintenance Set: {'M104', 'M102', 'M108', 'M103', 'M105', 'M101'}\n"
     ]
    }
   ],
   "source": [
    "# 6. Add a new machine to maintenance set\n",
    "maintenance_set.add(\"M108\")  # Add machine M108 to the maintenance set\n",
    "print(\"After Adding M108 to Maintenance Set:\", maintenance_set)"
   ]
  },
  {
   "cell_type": "code",
   "execution_count": 7,
   "id": "e96c0036-67f6-4240-898a-d0e28b845a80",
   "metadata": {},
   "outputs": [
    {
     "name": "stdout",
     "output_type": "stream",
     "text": [
      "After Removing M107 from Calibration Set: {'M103', 'M104', 'M106'}\n"
     ]
    }
   ],
   "source": [
    "# 7. Remove a machine from calibration set\n",
    "calibration_set.discard(\"M107\")  # Remove machine M107 from the calibration set (discard is safe even if element doesn't exist)\n",
    "print(\"After Removing M107 from Calibration Set:\", calibration_set)"
   ]
  },
  {
   "cell_type": "code",
   "execution_count": 8,
   "id": "57f227c0-bf4d-4dc2-b264-affcf2d41621",
   "metadata": {},
   "outputs": [
    {
     "name": "stdout",
     "output_type": "stream",
     "text": [
      "After Updating Maintenance Set with Calibration Data: {'M108', 'M103', 'M105', 'M104', 'M102', 'M106', 'M101'}\n"
     ]
    }
   ],
   "source": [
    "# 8. Update maintenance set with new calibration data\n",
    "maintenance_set.update(calibration_set)  # Add all machines from calibration set to maintenance set\n",
    "print(\"After Updating Maintenance Set with Calibration Data:\", maintenance_set)"
   ]
  },
  {
   "cell_type": "code",
   "execution_count": 9,
   "id": "d83c66e7-d477-476a-bbe4-5a8eba4e7113",
   "metadata": {},
   "outputs": [
    {
     "name": "stdout",
     "output_type": "stream",
     "text": [
      "M105 is found in maintenance records.\n"
     ]
    }
   ],
   "source": [
    "# 9. Check membership\n",
    "machine_check = \"M105\"  # Machine ID to check\n",
    "if machine_check in maintenance_set:  # Check if the machine exists in the maintenance set\n",
    "    print(f\"{machine_check} is found in maintenance records.\")\n",
    "else:\n",
    "    print(f\"{machine_check} is NOT found in maintenance records.\")"
   ]
  }
 ],
 "metadata": {
  "kernelspec": {
   "display_name": "Python [conda env:base] *",
   "language": "python",
   "name": "conda-base-py"
  },
  "language_info": {
   "codemirror_mode": {
    "name": "ipython",
    "version": 3
   },
   "file_extension": ".py",
   "mimetype": "text/x-python",
   "name": "python",
   "nbconvert_exporter": "python",
   "pygments_lexer": "ipython3",
   "version": "3.13.5"
  }
 },
 "nbformat": 4,
 "nbformat_minor": 5
}
